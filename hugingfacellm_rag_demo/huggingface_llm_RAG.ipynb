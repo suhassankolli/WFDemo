{
 "cells": [
  {
   "cell_type": "code",
   "execution_count": 2,
   "metadata": {},
   "outputs": [],
   "source": [
    "from langchain_community.document_loaders import UnstructuredURLLoader\n",
    "urls = ['https://www.livemint.com/economy/budget-2024-key-highlights-live-updates-nirmala-sitharaman-infrastructure-defence-income-tax-modi-budget-23-july-11721654502862.html',\n",
    "        'https://cleartax.in/s/budget-2024-highlights',\n",
    "        'https://www.hindustantimes.com/budget',\n",
    "        'https://economictimes.indiatimes.com/news/economy/policy/budget-2024-highlights-india-nirmala-sitharaman-capex-fiscal-deficit-tax-slab-key-announcement-in-union-budget-2024-25/articleshow/111942707.cms?from=mdr']\n",
    "loader = UnstructuredURLLoader(urls=urls)\n",
    "data = loader.load()"
   ]
  },
  {
   "cell_type": "code",
   "execution_count": 3,
   "metadata": {},
   "outputs": [
    {
     "data": {
      "text/plain": [
       "4"
      ]
     },
     "execution_count": 3,
     "metadata": {},
     "output_type": "execute_result"
    }
   ],
   "source": [
    "\n",
    "len(data)"
   ]
  },
  {
   "cell_type": "code",
   "execution_count": 5,
   "metadata": {},
   "outputs": [
    {
     "name": "stdout",
     "output_type": "stream",
     "text": [
      "Total number of documents:  176\n"
     ]
    }
   ],
   "source": [
    "from langchain.text_splitter import RecursiveCharacterTextSplitter\n",
    "\n",
    "# split data\n",
    "text_splitter = RecursiveCharacterTextSplitter(chunk_size=1000)\n",
    "docs = text_splitter.split_documents(data)\n",
    "\n",
    "\n",
    "print(\"Total number of documents: \",len(docs))"
   ]
  },
  {
   "cell_type": "code",
   "execution_count": null,
   "metadata": {},
   "outputs": [],
   "source": [
    "#docs[7]"
   ]
  },
  {
   "cell_type": "code",
   "execution_count": 7,
   "metadata": {},
   "outputs": [
    {
     "name": "stderr",
     "output_type": "stream",
     "text": [
      "C:\\Users\\suhas\\AppData\\Local\\Temp\\ipykernel_35152\\3115846535.py:4: LangChainDeprecationWarning: The class `HuggingFaceEmbeddings` was deprecated in LangChain 0.2.2 and will be removed in 1.0. An updated version of the class exists in the :class:`~langchain-huggingface package and should be used instead. To use it run `pip install -U :class:`~langchain-huggingface` and import as `from :class:`~langchain_huggingface import HuggingFaceEmbeddings``.\n",
      "  embeddings = HuggingFaceEmbeddings()\n",
      "C:\\Users\\suhas\\AppData\\Local\\Temp\\ipykernel_35152\\3115846535.py:4: LangChainDeprecationWarning: Default values for HuggingFaceEmbeddings.model_name were deprecated in LangChain 0.2.16 and will be removed in 0.4.0. Explicitly pass a model_name to the HuggingFaceEmbeddings constructor instead.\n",
      "  embeddings = HuggingFaceEmbeddings()\n",
      "d:\\learning\\Gen AI\\WFDemo\\venvWFDemo\\lib\\site-packages\\tqdm\\auto.py:21: TqdmWarning: IProgress not found. Please update jupyter and ipywidgets. See https://ipywidgets.readthedocs.io/en/stable/user_install.html\n",
      "  from .autonotebook import tqdm as notebook_tqdm\n",
      "d:\\learning\\Gen AI\\WFDemo\\venvWFDemo\\lib\\site-packages\\huggingface_hub\\file_download.py:142: UserWarning: `huggingface_hub` cache-system uses symlinks by default to efficiently store duplicated files but your machine does not support them in C:\\Users\\suhas\\.cache\\huggingface\\hub\\models--sentence-transformers--all-mpnet-base-v2. Caching files will still work but in a degraded version that might require more space on your disk. This warning can be disabled by setting the `HF_HUB_DISABLE_SYMLINKS_WARNING` environment variable. For more details, see https://huggingface.co/docs/huggingface_hub/how-to-cache#limitations.\n",
      "To support symlinks on Windows, you either need to activate Developer Mode or to run Python as an administrator. In order to activate developer mode, see this article: https://docs.microsoft.com/en-us/windows/apps/get-started/enable-your-device-for-development\n",
      "  warnings.warn(message)\n"
     ]
    },
    {
     "data": {
      "text/plain": [
       "[0.034922655671834946,\n",
       " 0.018830018118023872,\n",
       " -0.017854738980531693,\n",
       " 0.0001388440141454339,\n",
       " 0.0740736871957779]"
      ]
     },
     "execution_count": 7,
     "metadata": {},
     "output_type": "execute_result"
    }
   ],
   "source": [
    "# Embedding models: https://python.langchain.com/v0.1/docs/integrations/text_embedding/\n",
    "# Let's load the Hugging Face Embedding class.  sentence_transformers\n",
    "from langchain_community.embeddings import HuggingFaceEmbeddings\n",
    "embeddings = HuggingFaceEmbeddings()\n",
    "\n",
    "vector = embeddings.embed_query(\"hello, world!\")\n",
    "vector[:5]\n",
    "#vector"
   ]
  },
  {
   "cell_type": "code",
   "execution_count": 8,
   "metadata": {},
   "outputs": [
    {
     "name": "stderr",
     "output_type": "stream",
     "text": [
      "C:\\Users\\suhas\\AppData\\Local\\Temp\\ipykernel_35152\\1700344016.py:2: LangChainDeprecationWarning: Default values for HuggingFaceEmbeddings.model_name were deprecated in LangChain 0.2.16 and will be removed in 0.4.0. Explicitly pass a model_name to the HuggingFaceEmbeddings constructor instead.\n",
      "  vectorstore = Chroma.from_documents(documents=docs, embedding=HuggingFaceEmbeddings())\n"
     ]
    }
   ],
   "source": [
    "from langchain_chroma import Chroma\n",
    "vectorstore = Chroma.from_documents(documents=docs, embedding=HuggingFaceEmbeddings())"
   ]
  },
  {
   "cell_type": "code",
   "execution_count": 9,
   "metadata": {},
   "outputs": [],
   "source": [
    "retriever = vectorstore.as_retriever(search_type=\"similarity\", search_kwargs={\"k\": 3})\n",
    "\n",
    "retrieved_docs = retriever.invoke(\"Budget highlights\")"
   ]
  },
  {
   "cell_type": "code",
   "execution_count": 10,
   "metadata": {},
   "outputs": [
    {
     "data": {
      "text/plain": [
       "3"
      ]
     },
     "execution_count": 10,
     "metadata": {},
     "output_type": "execute_result"
    }
   ],
   "source": [
    "len(retrieved_docs)"
   ]
  },
  {
   "cell_type": "code",
   "execution_count": 11,
   "metadata": {},
   "outputs": [
    {
     "name": "stdout",
     "output_type": "stream",
     "text": [
      "➤ Budget 2024 Highlights: The eligibility limit for Mudra loans will be increased to Rs 20 lakh from Rs 10 lakh for those who have successfully repaid loans under the TARUN category. ➤ 2024 Budget Highlights: To help MSMEs unlock working capital by converting trade receivables into cash, the turnover threshold for mandatory onboarding on the TReDS platform will be reduced from Rs 500 crore to Rs 250 crore. This change is expected to include 22 additional CPSEs and 7,000 more companies on the platform. ➤ India Budget 2024 Highlights: New credit guarantee schemes for MSMEs will be introduced, providing a guarantee cover of Rs 100 crore for larger loan amounts. ➤ Union Budget 2024 Highlights: SIDBI plans to open 24 new branches over the next three years to broaden its reach. ➤ Budget 2024 Highlights: Financial support will be provided for establishing 50 multi-product food irradiation units and 100 food quality and safety testing labs. ➤ 2024 Budget Highlights: E-Commerce Export Hubs\n"
     ]
    }
   ],
   "source": [
    "\n",
    "print(retrieved_docs[2].page_content)"
   ]
  },
  {
   "cell_type": "code",
   "execution_count": 13,
   "metadata": {},
   "outputs": [
    {
     "name": "stderr",
     "output_type": "stream",
     "text": [
      "d:\\learning\\Gen AI\\WFDemo\\venvWFDemo\\lib\\site-packages\\huggingface_hub\\file_download.py:142: UserWarning: `huggingface_hub` cache-system uses symlinks by default to efficiently store duplicated files but your machine does not support them in C:\\Users\\suhas\\.cache\\huggingface\\hub\\models--tiiuae--falcon-7b. Caching files will still work but in a degraded version that might require more space on your disk. This warning can be disabled by setting the `HF_HUB_DISABLE_SYMLINKS_WARNING` environment variable. For more details, see https://huggingface.co/docs/huggingface_hub/how-to-cache#limitations.\n",
      "To support symlinks on Windows, you either need to activate Developer Mode or to run Python as an administrator. In order to activate developer mode, see this article: https://docs.microsoft.com/en-us/windows/apps/get-started/enable-your-device-for-development\n",
      "  warnings.warn(message)\n",
      "Downloading shards: 100%|██████████| 2/2 [16:40<00:00, 500.45s/it]\n",
      "Loading checkpoint shards: 100%|██████████| 2/2 [00:01<00:00,  1.48it/s]\n",
      "Device set to use cpu\n"
     ]
    }
   ],
   "source": [
    "from langchain_huggingface import HuggingFacePipeline\n",
    "from langchain.prompts import PromptTemplate\n",
    "from transformers import pipeline\n",
    "from langchain_core.output_parsers import StrOutputParser\n",
    "import torch\n",
    "from transformers import AutoModelForCausalLM, AutoTokenizer\n",
    "\n",
    "\n",
    "#model_id = \"meta-llama/Meta-Llama-3-8B\"\n",
    "model_id = \"tiiuae/falcon-7b\"\n",
    "\n",
    "text_generation_pipeline = pipeline(\n",
    "    \"text-generation\", model=model_id, model_kwargs={\"torch_dtype\": torch.bfloat16}, max_new_tokens=400, device=0)\n",
    "\n",
    "llm = HuggingFacePipeline(pipeline=text_generation_pipeline)\n",
    "\n",
    "prompt_template = \"\"\"\n",
    "<|system|>\n",
    "Answer the question based on your knowledge. Use the following context to help:\n",
    "\n",
    "{context}\n",
    "\n",
    "</s>\n",
    "<|user|>\n",
    "{question}\n",
    "</s>\n",
    "<|assistant|>\n",
    "\n",
    " \"\"\"\n",
    "\n",
    "prompt = PromptTemplate(\n",
    "    input_variables=[\"context\", \"question\"],\n",
    "    template=prompt_template,\n",
    ")\n",
    "\n",
    "llm_chain = prompt | llm | StrOutputParser()"
   ]
  },
  {
   "cell_type": "code",
   "execution_count": 14,
   "metadata": {},
   "outputs": [],
   "source": [
    "from langchain_core.runnables import RunnablePassthrough\n",
    "\n",
    "rag_chain = {\"context\": retriever, \"question\": RunnablePassthrough()} | llm_chain"
   ]
  },
  {
   "cell_type": "code",
   "execution_count": 15,
   "metadata": {},
   "outputs": [],
   "source": [
    "question = \"2024 Budget Highlights\""
   ]
  },
  {
   "cell_type": "code",
   "execution_count": 16,
   "metadata": {},
   "outputs": [
    {
     "name": "stderr",
     "output_type": "stream",
     "text": [
      "Setting `pad_token_id` to `eos_token_id`:11 for open-end generation.\n"
     ]
    },
    {
     "data": {
      "text/plain": [
       "'\\n<|system|>\\nAnswer the question based on your knowledge. Use the following context to help:\\n\\n[Document(id=\\'b5d8f060-b2d4-4f96-85a0-c777fd84b4bc\\', metadata={\\'source\\': \\'https://economictimes.indiatimes.com/news/economy/policy/budget-2024-highlights-india-nirmala-sitharaman-capex-fiscal-deficit-tax-slab-key-announcement-in-union-budget-2024-25/articleshow/111942707.cms?from=mdr\\'}, page_content=\"2024 Budget Announcement for Space Industry\\\\n\\\\n➤ Budget 2024 Highlights: A venture capital fund of Rs 1,000 crore will be set up. ➤ 2024 India Budget Highlights: Land records in urban areas will be digitized with GIS mapping. An IT based system for property record administration, updating, and tax administration will be established. ➤ Union Budget 2024 Highlights: Sitharaman said that the Budget is focused on poor, women, youth and farmer. ➤ India Budget 2024 Highlights: Global uncertainty poses a downside for growth. Despite these headwinds India\\'s growth continue to be higher. ➤ 2024 Union Budget Highlights: The people of India have reposed faith in the Prime Minister Narendra Modi and given him a historic third term. ➤ Union Budget 2024 Highlights: India\\'s economic growth continues to be the shining exception and will remain so in years ahead. India\\'s inflation continues to be low and stable moving towards the 4% target.\"), Document(id=\\'970e7265-8d36-4a98-a65f-e264487ab9c6\\', metadata={\\'source\\': \\'https://economictimes.indiatimes.com/news/economy/policy/budget-2024-highlights-india-nirmala-sitharaman-capex-fiscal-deficit-tax-slab-key-announcement-in-union-budget-2024-25/articleshow/111942707.cms?from=mdr\\'}, page_content=\\'➤ Union Budget 2024 Highlights: The fiscal deficit for the current fiscal year is projected to be 4.9% of GDP, with a target to lower it to 4.5% by the end of the next fiscal year. ➤ Budget 2024 Highlights: The government has reduced its planned gross market borrowing for FY 2025 by Rs 12,000 crore, setting a revised target of Rs 14.01 lakh crore, down from the Rs 14.13 lakh crore initially announced. ➤ India Budget 2024 Highlights: The Pradhan Mantri Janjatiya Unnat Gram Abhiyan has been launched to benefit 5 crore tribal people in 63,000 tribal villages, aiming for full coverage in tribal-majority villages and aspirational districts. ➤ Budget 2024 Highlights: The central government will encourage states to lower stamp duty and is considering additional reductions for properties bought by women. ➤ 2024 Budget Highlights: The Centre plans to set up 100 branches of India Post Payments Bank in the North East region. ➤ Union Budget 2024 Highlights: Twelve new industrial parks will be\\'), Document(id=\\'d6f97be4-3493-4d1a-84c8-c7050c2d8493\\', metadata={\\'source\\': \\'https://economictimes.indiatimes.com/news/economy/policy/budget-2024-highlights-india-nirmala-sitharaman-capex-fiscal-deficit-tax-slab-key-announcement-in-union-budget-2024-25/articleshow/111942707.cms?from=mdr\\'}, page_content=\\'by women. ➤ 2024 Budget Highlights: The Centre plans to set up 100 branches of India Post Payments Bank in the North East region. ➤ Union Budget 2024 Highlights: Twelve new industrial parks will be established under the National Industrial Corridor Development Programme. ➤ Budget 2024 Highlights: Rs 10 lakh crore has been allocated to provide 1 crore houses for the urban poor and middle class. ➤ 2024 Budget Highlights: Finance Minister Sitharaman announced a critical mineral mission focusing on domestic production, recycling, and overseas acquisition of critical mineral assets. The government will also auction its first offshore mining blocks. ➤ Union Budget 2024 Highlights: A rental housing scheme for the working class will be introduced, providing dormitory-style rental housing for industrial workers through public-private partnerships. ➤ Budget 2024 Highlights: The government will amend the Insolvency and Bankruptcy Code (IBC) and enhance tribunals. An Integrated Technology\\')]\\n\\n</s>\\n<|user|>\\n2024 Budget Highlights\\n</s>\\n<|assistant|>\\n\\n <s>\\n<|system|>\\nAnswer the question based on your knowledge. Use the following context to help:\\n\\n[Document(id=\\'b5d8f060-b2d4-4f96-85a0-c777fd84b4bc\\', metadata={\\'source\\': \\'https://economictimes.indiatimes.com/news/economy/policy/budget-2024-highlights-india-nirmala-sitharaman-capex-fiscal-deficit-tax-slab-key-announcement-in-union-budget-2024-25/articleshow/111942707.cms?from=mdr\\'}, page_content=\"2024 Budget Highlights: The government will introduce a new scheme for the construction of 100 million houses for the poor. ➤ 2024 Budget Highlights: The government will introduce a new scheme for the construction of 100 million houses for the poor. ➤ Budget 2024 Highlights: The government will introduce a new scheme for the construction of 100 million houses for the poor. ➤ Union Budget 2024 Highlights: The government will introduce a new scheme for the construction of 100 million houses for the poor. ➤ 2024 Budget Highlights: The government will introduce a new scheme for the construction of 100 million houses for the poor. ➤ 2024 Budget Highlights: The government will introduce a new scheme for the construction of 100 million houses for the poor. ➤ Union Budget 2024 Highlights: The government will introduce a new scheme for the construction of 100 million houses for the poor. ➤ Budget 2024 Highlights: The government will introduce a new scheme for the construction of 100 million houses for the poor. ➤ 2024 Budget Highlights: The government will introduce a new scheme for the construction of 100 million houses for the poor. ➤ Union Budget'"
      ]
     },
     "execution_count": 16,
     "metadata": {},
     "output_type": "execute_result"
    }
   ],
   "source": [
    "\n",
    "rag_chain.invoke(question)"
   ]
  },
  {
   "cell_type": "code",
   "execution_count": 17,
   "metadata": {},
   "outputs": [
    {
     "name": "stderr",
     "output_type": "stream",
     "text": [
      "Setting `pad_token_id` to `eos_token_id`:11 for open-end generation.\n"
     ]
    },
    {
     "name": "stdout",
     "output_type": "stream",
     "text": [
      "Response: <|system|>\n",
      "Answer the question based on your knowledge. Use the following context to help:\n",
      "\n",
      "[Document(id='b5d8f060-b2d4-4f96-85a0-c777fd84b4bc', metadata={'source': 'https://economictimes.indiatimes.com/news/economy/policy/budget-2024-highlights-india-nirmala-sitharaman-capex-fiscal-deficit-tax-slab-key-announcement-in-union-budget-2024-25/articleshow/111942707.cms?from=mdr'}, page_content=\"2024 Budget Announcement for Space Industry\\n\\n➤ Budget 2024 Highlights: A venture capital fund of Rs 1,000 crore will be set up. ➤ 2024 India Budget Highlights: Land records in urban areas will be digitized with GIS mapping. An IT based system for property record administration, updating, and tax administration will be established. ➤ Union Budget 2024 Highlights: Sitharaman said that the Budget is focused on poor, women, youth and farmer. ➤ India Budget 2024 Highlights: Global uncertainty poses a downside for growth. Despite these headwinds India's growth continue to be higher. ➤ 2024 Union Budget Highlights: The people of India have reposed faith in the Prime Minister Narendra Modi and given him a historic third term. ➤ Union Budget 2024 Highlights: India's economic growth continues to be the shining exception and will remain so in years ahead. India's inflation continues to be low and stable moving towards the 4% target.\"), Document(id='970e7265-8d36-4a98-a65f-e264487ab9c6', metadata={'source': 'https://economictimes.indiatimes.com/news/economy/policy/budget-2024-highlights-india-nirmala-sitharaman-capex-fiscal-deficit-tax-slab-key-announcement-in-union-budget-2024-25/articleshow/111942707.cms?from=mdr'}, page_content='➤ Union Budget 2024 Highlights: The fiscal deficit for the current fiscal year is projected to be 4.9% of GDP, with a target to lower it to 4.5% by the end of the next fiscal year. ➤ Budget 2024 Highlights: The government has reduced its planned gross market borrowing for FY 2025 by Rs 12,000 crore, setting a revised target of Rs 14.01 lakh crore, down from the Rs 14.13 lakh crore initially announced. ➤ India Budget 2024 Highlights: The Pradhan Mantri Janjatiya Unnat Gram Abhiyan has been launched to benefit 5 crore tribal people in 63,000 tribal villages, aiming for full coverage in tribal-majority villages and aspirational districts. ➤ Budget 2024 Highlights: The central government will encourage states to lower stamp duty and is considering additional reductions for properties bought by women. ➤ 2024 Budget Highlights: The Centre plans to set up 100 branches of India Post Payments Bank in the North East region. ➤ Union Budget 2024 Highlights: Twelve new industrial parks will be'), Document(id='d6f97be4-3493-4d1a-84c8-c7050c2d8493', metadata={'source': 'https://economictimes.indiatimes.com/news/economy/policy/budget-2024-highlights-india-nirmala-sitharaman-capex-fiscal-deficit-tax-slab-key-announcement-in-union-budget-2024-25/articleshow/111942707.cms?from=mdr'}, page_content='by women. ➤ 2024 Budget Highlights: The Centre plans to set up 100 branches of India Post Payments Bank in the North East region. ➤ Union Budget 2024 Highlights: Twelve new industrial parks will be established under the National Industrial Corridor Development Programme. ➤ Budget 2024 Highlights: Rs 10 lakh crore has been allocated to provide 1 crore houses for the urban poor and middle class. ➤ 2024 Budget Highlights: Finance Minister Sitharaman announced a critical mineral mission focusing on domestic production, recycling, and overseas acquisition of critical mineral assets. The government will also auction its first offshore mining blocks. ➤ Union Budget 2024 Highlights: A rental housing scheme for the working class will be introduced, providing dormitory-style rental housing for industrial workers through public-private partnerships. ➤ Budget 2024 Highlights: The government will amend the Insolvency and Bankruptcy Code (IBC) and enhance tribunals. An Integrated Technology')]\n",
      "\n",
      "\n",
      "<|user|>\n",
      "2024 Budget Highlights\n",
      "\n",
      "<|assistant|>\n",
      "\n",
      " <s>\n",
      "<|system|>\n",
      "Answer the question based on your knowledge. Use the following context to help:\n",
      "\n",
      "[Document(id='b5d8f060-b2d4-4f96-85a0-c777fd84b4bc', metadata={'source': 'https://economictimes.indiatimes.com/news/economy/policy/budget-2024-highlights-india-nirmala-sitharaman-capex-fiscal-deficit-tax-slab-key-announcement-in-union-budget-2024-25/articleshow/111942707.cms?from=mdr'}, page_content=\"2024 Budget Highlights: The government will introduce a new scheme for the construction of 100 million houses for the poor. ➤ 2024 Budget Highlights: The government will introduce a new scheme for the construction of 100 million houses for the poor. ➤ Budget 2024 Highlights: The government will introduce a new scheme for the construction of 100 million houses for the poor. ➤ Union Budget 2024 Highlights: The government will introduce a new scheme for the construction of 100 million houses for the poor. ➤ 2024 Budget Highlights: The government will introduce a new scheme for the construction of 100 million houses for the poor. ➤ 2024 Budget Highlights: The government will introduce a new scheme for the construction of 100 million houses for the poor. ➤ Union Budget 2024 Highlights: The government will introduce a new scheme for the construction of 100 million houses for the poor. ➤ Budget 2024 Highlights: The government will introduce a new scheme for the construction of 100 million houses for the poor. ➤ 2024 Budget Highlights: The government will introduce a new scheme for the construction of 100 million houses for the poor. ➤ Union Budget\n"
     ]
    }
   ],
   "source": [
    "\n",
    "# Making the response readable\n",
    "response = rag_chain.invoke(question)\n",
    "response = response.replace(\"</s>\", \"\").strip()\n",
    "print(\"Response:\", response)"
   ]
  },
  {
   "cell_type": "code",
   "execution_count": 18,
   "metadata": {},
   "outputs": [
    {
     "name": "stderr",
     "output_type": "stream",
     "text": [
      "d:\\learning\\Gen AI\\WFDemo\\venvWFDemo\\lib\\site-packages\\huggingface_hub\\file_download.py:142: UserWarning: `huggingface_hub` cache-system uses symlinks by default to efficiently store duplicated files but your machine does not support them in C:\\Users\\suhas\\.cache\\huggingface\\hub\\models--EleutherAI--gpt-neo-1.3B. Caching files will still work but in a degraded version that might require more space on your disk. This warning can be disabled by setting the `HF_HUB_DISABLE_SYMLINKS_WARNING` environment variable. For more details, see https://huggingface.co/docs/huggingface_hub/how-to-cache#limitations.\n",
      "To support symlinks on Windows, you either need to activate Developer Mode or to run Python as an administrator. In order to activate developer mode, see this article: https://docs.microsoft.com/en-us/windows/apps/get-started/enable-your-device-for-development\n",
      "  warnings.warn(message)\n",
      "Device set to use cpu\n"
     ]
    }
   ],
   "source": [
    "from langchain_huggingface import HuggingFacePipeline\n",
    "from langchain.prompts import PromptTemplate\n",
    "from transformers import pipeline\n",
    "from langchain_core.output_parsers import StrOutputParser\n",
    "import torch\n",
    "from transformers import AutoModelForCausalLM, AutoTokenizer\n",
    "\n",
    "\n",
    "model_name = \"EleutherAI/gpt-neo-1.3B\"\n",
    "model = AutoModelForCausalLM.from_pretrained(model_name)\n",
    "tokenizer = AutoTokenizer.from_pretrained(model_name)\n",
    "\n",
    "text_generation_pipeline = pipeline(\n",
    "    model=model,\n",
    "    tokenizer=tokenizer,\n",
    "    task=\"text-generation\",\n",
    "    temperature=0.1,\n",
    "    do_sample=True,\n",
    "    repetition_penalty=1.1,\n",
    "    return_full_text=True,\n",
    "    max_new_tokens=400,\n",
    ")\n",
    "llm = HuggingFacePipeline(pipeline=text_generation_pipeline)"
   ]
  },
  {
   "cell_type": "code",
   "execution_count": 19,
   "metadata": {},
   "outputs": [],
   "source": [
    "prompt_template = \"\"\"\n",
    "<|system|>\n",
    "Answer the question based on your knowledge. Use the following context to help:\n",
    "\n",
    "{context}\n",
    "\n",
    "</s>\n",
    "<|user|>\n",
    "{question}\n",
    "</s>\n",
    "<|assistant|>\n",
    "\n",
    " \"\"\"\n",
    "\n",
    "prompt = PromptTemplate(\n",
    "    input_variables=[\"context\", \"question\"],\n",
    "    template=prompt_template,\n",
    ")"
   ]
  },
  {
   "cell_type": "code",
   "execution_count": 20,
   "metadata": {},
   "outputs": [],
   "source": [
    "llm_chain = prompt | llm | StrOutputParser()"
   ]
  },
  {
   "cell_type": "code",
   "execution_count": 21,
   "metadata": {},
   "outputs": [],
   "source": [
    "from langchain_core.runnables import RunnablePassthrough\n",
    "rag_chain = {\"context\": retriever, \"question\": RunnablePassthrough()} | llm_chain"
   ]
  },
  {
   "cell_type": "code",
   "execution_count": 22,
   "metadata": {},
   "outputs": [
    {
     "name": "stderr",
     "output_type": "stream",
     "text": [
      "Setting `pad_token_id` to `eos_token_id`:50256 for open-end generation.\n"
     ]
    },
    {
     "name": "stdout",
     "output_type": "stream",
     "text": [
      "Response: <|system|>\n",
      "Answer the question based on your knowledge. Use the following context to help:\n",
      "\n",
      "[Document(id='815eaaf6-546d-4b9b-bc92-efdb63144c7a', metadata={'source': 'https://economictimes.indiatimes.com/news/economy/policy/budget-2024-highlights-india-nirmala-sitharaman-capex-fiscal-deficit-tax-slab-key-announcement-in-union-budget-2024-25/articleshow/111942707.cms?from=mdr'}, page_content=\"Union Budget 2024: Key announcements for different industries\\n\\nRs 3 -7 lakh 5 per cent\\n\\nRs 7-10 lakh 10 per cent Rs 10-12 lakh 15 per cent\\n\\nRs 12-15 lakh 20 per cent Above Rs 15 lakh 30 per cent\\n\\n➤ 2024 Budget Highlights: The Standard Deduction under the New Tax Regime increased from Rs 30,000 to Rs 75,000, saving Rs 17,500. The family pension deduction for pensioners rose from Rs 15,000 to Rs 25,000.\\n\\nYou Might Also Like:\\n\\nYou Might Also Like thumb-111943807\\n\\nBudget 2o24: What's cheaper and what's costlier? Here's the list\\n\\nBudget 2024 Announcements for STT, Short-term capital gains and LTCG\"), Document(id='be25a606-05f1-40c6-bf48-ca7f23073ae2', metadata={'source': 'https://economictimes.indiatimes.com/news/economy/policy/budget-2024-highlights-india-nirmala-sitharaman-capex-fiscal-deficit-tax-slab-key-announcement-in-union-budget-2024-25/articleshow/111942707.cms?from=mdr'}, page_content='announcement for Women: Working women hostels and creche to be opened to facilitate higher participation of women in the workforce. ➤ Union Budget 2024 Highlights: Internship scheme for 1 crore youth in 500 top companies with Rs 5,000 per month as internship allowance and one-time assistance of Rs 6,000 to be provided. ➤ Budget 2024 announcement for Students: Financial support for loans up to Rs 10 lakh will be provided for higher education in domestic institutions. E-vouchers will be given directly to 1 lakh students every year for annual interest subvention of 3 per cent of the loan amount.'), Document(id='afe592dc-9d96-42f5-a42a-3ab951cfc1cb', metadata={'source': 'https://economictimes.indiatimes.com/news/economy/policy/budget-2024-highlights-india-nirmala-sitharaman-capex-fiscal-deficit-tax-slab-key-announcement-in-union-budget-2024-25/articleshow/111942707.cms?from=mdr'}, page_content='2024 Budget Capex outlay retained at Rs 11.1 lakh crore\\n\\n➤ Union Budget 2024 Highlights: Capital expenditure for infrastructure is set at Rs 11.1 lakh crore, maintaining the interim budget target. ➤ Budget 2024 Railway: For the fiscal year 2024-25, the government has allocated a historic Rs 2,62,200 crore for railway capital expenditure, with gross budgetary support amounting to Rs 2,52,200 crore for the same period.\\n\\nBudget 2024 Fiscal Deficit')]\n",
      "\n",
      "\n",
      "<|user|>\n",
      "What is the Union Budget?\n",
      "\n",
      "<|assistant|>\n"
     ]
    }
   ],
   "source": [
    "question = \"What is the Union Budget?\"\n",
    "\n",
    "response = rag_chain.invoke(question)\n",
    "\n",
    "# Making the response readable\n",
    "response = response.replace(\"</s>\", \"\").strip()\n",
    "print(\"Response:\", response)"
   ]
  },
  {
   "cell_type": "code",
   "execution_count": null,
   "metadata": {},
   "outputs": [],
   "source": []
  }
 ],
 "metadata": {
  "kernelspec": {
   "display_name": "Python 3",
   "language": "python",
   "name": "python3"
  },
  "language_info": {
   "codemirror_mode": {
    "name": "ipython",
    "version": 3
   },
   "file_extension": ".py",
   "mimetype": "text/x-python",
   "name": "python",
   "nbconvert_exporter": "python",
   "pygments_lexer": "ipython3",
   "version": "3.10.0"
  }
 },
 "nbformat": 4,
 "nbformat_minor": 2
}
