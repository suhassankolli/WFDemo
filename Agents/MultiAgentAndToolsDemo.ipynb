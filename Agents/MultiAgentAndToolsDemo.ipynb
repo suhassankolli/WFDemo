{
 "cells": [
  {
   "cell_type": "code",
   "execution_count": null,
   "id": "280902ef",
   "metadata": {},
   "outputs": [],
   "source": [
    "!python --version"
   ]
  },
  {
   "cell_type": "code",
   "execution_count": null,
   "id": "a6cbeb7d",
   "metadata": {},
   "outputs": [],
   "source": [
    "import langchain\n",
    "langchain.__version__\n"
   ]
  },
  {
   "cell_type": "code",
   "execution_count": null,
   "id": "0f6506eb",
   "metadata": {},
   "outputs": [],
   "source": [
    "### Initialize langchain agents and tools\n",
    "from langchain.agents import initialize_agent, Tool\n",
    "from langchain.llms import OpenAI\n",
    "\n",
    "from dotenv import load_dotenv\n",
    "load_dotenv()\n",
    "import os\n",
    "open_api_key = os.getenv(\"OPENAI_API_KEY\")\n"
   ]
  },
  {
   "cell_type": "code",
   "execution_count": null,
   "id": "dddfe8be",
   "metadata": {},
   "outputs": [],
   "source": [
    "!pip install -U duckduckgo-search"
   ]
  },
  {
   "cell_type": "code",
   "execution_count": null,
   "id": "4fe3883c",
   "metadata": {},
   "outputs": [],
   "source": [
    "from langchain_community.tools.ddg_search.tool import DuckDuckGoSearchRun\n",
    "search_tool = Tool(\n",
    "    name= \"DuckDuckGo Search\",\n",
    "    func=DuckDuckGoSearchRun().run,\n",
    "    description=\"Use this tool to perform web searches such as latest news, entertainement movies etc using DuckDuckGo\"\n",
    ")\n",
    "llm = OpenAI(temperature =0.5)\n",
    "\n",
    "\n"
   ]
  },
  {
   "cell_type": "code",
   "execution_count": null,
   "id": "7e9256c5",
   "metadata": {},
   "outputs": [],
   "source": [
    "!pip install wikipedia"
   ]
  },
  {
   "cell_type": "code",
   "execution_count": null,
   "id": "1a28620b",
   "metadata": {},
   "outputs": [],
   "source": [
    "## Initialize the Wikipedia \n",
    "from langchain_community.utilities.wikipedia import WikipediaAPIWrapper\n",
    "wikipedia_tool= Tool(\n",
    "    name= \"Wikipedia Search\",\n",
    "    func=WikipediaAPIWrapper().run,\n",
    "    description=\"Use this tool to perform wikipedia searches for information \"\n",
    ")\n",
    "\n",
    "tools=[wikipedia_tool]\n"
   ]
  },
  {
   "cell_type": "code",
   "execution_count": null,
   "id": "4070714b",
   "metadata": {},
   "outputs": [],
   "source": [
    "import sqlite3\n",
    "\n",
    "# Connect to SQLite database (creates example.db if it doesn't exist)\n",
    "connection = sqlite3.connect(\"example.db\")\n",
    "cursor = connection.cursor()\n",
    "\n",
    "# Create the inventory table\n",
    "cursor.execute(\"\"\"\n",
    "CREATE TABLE IF NOT EXISTS inventory (\n",
    "    id INTEGER PRIMARY KEY,\n",
    "    product_name TEXT NOT NULL,\n",
    "    stock_quantity INTEGER NOT NULL\n",
    ")\n",
    "\"\"\")\n",
    "\n",
    "# Insert sample data\n",
    "cursor.executemany(\"\"\"\n",
    "INSERT INTO inventory (product_name, stock_quantity) VALUES (?, ?)\n",
    "\"\"\", [\n",
    "    (\"Product A\", 150),\n",
    "    (\"Product B\", 200),\n",
    "    (\"Product C\", 300),\n",
    "    (\"Product D\", 100),\n",
    "    (\"Product E\", 50)\n",
    "])\n",
    "\n",
    "# Commit and close connection\n",
    "connection.commit()\n",
    "connection.close()\n",
    "\n",
    "print(\"Database created and populated with sample data.\")"
   ]
  },
  {
   "cell_type": "code",
   "execution_count": null,
   "id": "2bb79cc8",
   "metadata": {},
   "outputs": [],
   "source": [
    "from langchain_community.utilities.sql_database import SQLDatabase\n",
    "from langchain_community.agent_toolkits.sql.toolkit import SQLDatabaseToolkit\n",
    "\n",
    "db = SQLDatabase.from_uri(\"sqlite:///example.db\")\n",
    "toolkit = SQLDatabaseToolkit(db=db, llm=llm)\n",
    "sqllite_tool = toolkit.get_tools()\n",
    "tools = sqllite_tool\n"
   ]
  },
  {
   "cell_type": "code",
   "execution_count": null,
   "id": "76a5d2dc",
   "metadata": {},
   "outputs": [],
   "source": []
  },
  {
   "cell_type": "code",
   "execution_count": null,
   "id": "a14c6042",
   "metadata": {},
   "outputs": [],
   "source": [
    "agent = initialize_agent(tools = tools, \n",
    "                         llm=llm,\n",
    "                         agent=\"zero-shot-react-description\",\n",
    "                        verbose=True\n",
    "                        )\n",
    "query1 = \"How many units of Product A are in stock?\"\n",
    "response1 = agent.run(query1)\n",
    "print(\"response: \", response1)"
   ]
  },
  {
   "cell_type": "code",
   "execution_count": null,
   "id": "0a7c1a3c",
   "metadata": {},
   "outputs": [],
   "source": [
    "!pip install arxiv"
   ]
  },
  {
   "cell_type": "code",
   "execution_count": null,
   "id": "9ee07aa1",
   "metadata": {},
   "outputs": [],
   "source": [
    "from langchain_community.tools.arxiv.tool import ArxivQueryRun\n",
    "from langchain.agents import load_tools\n",
    "arxiv_tool = Tool(\n",
    "    name=\"Arxiv Search\",\n",
    "    func= ArxivQueryRun().run,\n",
    "    description=\"Use this tool to search academic papers on arXiv. Provide topics, authors, or keywords.\"\n",
    ")\n",
    "\n",
    "\n",
    "\n"
   ]
  },
  {
   "cell_type": "code",
   "execution_count": null,
   "id": "20587c8b",
   "metadata": {},
   "outputs": [],
   "source": [
    "##tools = load_tools([\"arxiv_tool\", \"wikipedia_tool\", \"search_tool\", \"sqllite_tool\"], llm=llm)\n",
    "tools = [arxiv_tool, search_tool]"
   ]
  },
  {
   "cell_type": "code",
   "execution_count": null,
   "id": "97ece4ca",
   "metadata": {},
   "outputs": [],
   "source": []
  },
  {
   "cell_type": "code",
   "execution_count": null,
   "id": "c5c26ace",
   "metadata": {},
   "outputs": [],
   "source": []
  },
  {
   "cell_type": "code",
   "execution_count": null,
   "id": "e5d3108a",
   "metadata": {},
   "outputs": [],
   "source": [
    "agent = initialize_agent(tools, \n",
    "                         llm,\n",
    "                         agent=\"zero-shot-react-description\",\n",
    "                        verbose=True,\n",
    "                        handle_parsing_errors=True\n",
    "                        )\n"
   ]
  },
  {
   "cell_type": "code",
   "execution_count": null,
   "id": "06f4815d",
   "metadata": {},
   "outputs": [],
   "source": []
  },
  {
   "cell_type": "code",
   "execution_count": null,
   "id": "4ecad360",
   "metadata": {},
   "outputs": [],
   "source": [
    "##query1 = \"Search for research papers on Diffusion Models in 2024.\"\n",
    "##query1 = \"Find recent papers on Generative AI and what is the latest movie trending in Charlotte USA this week\"\n",
    "query1 = \"In which city was Facebook office started and What are some of the recent papers on Generative AI\"\n",
    "response1 = agent.run(query1)\n",
    "print(\"response: \", response1)"
   ]
  },
  {
   "cell_type": "code",
   "execution_count": null,
   "id": "f76f5b6d",
   "metadata": {},
   "outputs": [],
   "source": []
  }
 ],
 "metadata": {
  "kernelspec": {
   "display_name": "venvWFDemo",
   "language": "python",
   "name": "venvwfdemo"
  },
  "language_info": {
   "codemirror_mode": {
    "name": "ipython",
    "version": 3
   },
   "file_extension": ".py",
   "mimetype": "text/x-python",
   "name": "python",
   "nbconvert_exporter": "python",
   "pygments_lexer": "ipython3",
   "version": "3.10.0"
  }
 },
 "nbformat": 4,
 "nbformat_minor": 5
}
