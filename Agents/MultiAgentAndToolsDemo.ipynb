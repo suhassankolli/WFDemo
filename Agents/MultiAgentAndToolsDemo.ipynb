{
 "cells": [
  {
   "cell_type": "code",
   "execution_count": 3,
   "id": "280902ef",
   "metadata": {},
   "outputs": [
    {
     "name": "stdout",
     "output_type": "stream",
     "text": [
      "Python 3.10.0\n"
     ]
    }
   ],
   "source": [
    "!python --version"
   ]
  },
  {
   "cell_type": "code",
   "execution_count": 4,
   "id": "a6cbeb7d",
   "metadata": {},
   "outputs": [
    {
     "data": {
      "text/plain": [
       "'0.3.20'"
      ]
     },
     "execution_count": 4,
     "metadata": {},
     "output_type": "execute_result"
    }
   ],
   "source": [
    "import langchain\n",
    "langchain.__version__\n"
   ]
  },
  {
   "cell_type": "code",
   "execution_count": 5,
   "id": "0f6506eb",
   "metadata": {},
   "outputs": [],
   "source": [
    "### Initialize langchain agents and tools\n",
    "from langchain.agents import initialize_agent, Tool\n",
    "from langchain.llms import OpenAI\n",
    "\n",
    "from dotenv import load_dotenv\n",
    "load_dotenv()\n",
    "import os\n",
    "open_api_key = os.getenv(\"OPENAI_API_KEY\")\n"
   ]
  },
  {
   "cell_type": "code",
   "execution_count": 6,
   "id": "dddfe8be",
   "metadata": {},
   "outputs": [
    {
     "name": "stdout",
     "output_type": "stream",
     "text": [
      "Collecting duckduckgo-search\n",
      "  Downloading duckduckgo_search-2025.4.4-cp310-cp310-win_amd64.whl.metadata (18 kB)\n",
      "Requirement already satisfied: click>=8.1.8 in d:\\learning\\gen ai\\wfdemo\\venvwfdemo\\lib\\site-packages (from duckduckgo-search) (8.1.8)\n",
      "Collecting primp>=0.14.0 (from duckduckgo-search)\n",
      "  Downloading primp-0.14.0-cp38-abi3-win_amd64.whl.metadata (13 kB)\n",
      "Requirement already satisfied: lxml>=5.3.0 in d:\\learning\\gen ai\\wfdemo\\venvwfdemo\\lib\\site-packages (from duckduckgo-search) (5.3.1)\n",
      "Requirement already satisfied: colorama in d:\\learning\\gen ai\\wfdemo\\venvwfdemo\\lib\\site-packages (from click>=8.1.8->duckduckgo-search) (0.4.6)\n",
      "Downloading duckduckgo_search-2025.4.4-cp310-cp310-win_amd64.whl (60 kB)\n",
      "Downloading primp-0.14.0-cp38-abi3-win_amd64.whl (3.1 MB)\n",
      "   ---------------------------------------- 0.0/3.1 MB ? eta -:--:--\n",
      "   ---------------------------------------- 3.1/3.1 MB 16.7 MB/s eta 0:00:00\n",
      "Installing collected packages: primp, duckduckgo-search\n",
      "Successfully installed duckduckgo-search-2025.4.4 primp-0.14.0\n"
     ]
    }
   ],
   "source": [
    "!pip install -U duckduckgo-search"
   ]
  },
  {
   "cell_type": "code",
   "execution_count": 40,
   "id": "4fe3883c",
   "metadata": {},
   "outputs": [],
   "source": [
    "from langchain_community.tools.ddg_search.tool import DuckDuckGoSearchRun\n",
    "search_tool = Tool(\n",
    "    name= \"DuckDuckGo Search\",\n",
    "    func=DuckDuckGoSearchRun().run,\n",
    "    description=\"Use this tool to perform web searches such as latest news, entertainement movies etc using DuckDuckGo\"\n",
    ")\n",
    "llm = OpenAI(temperature =0.5)\n",
    "\n",
    "\n"
   ]
  },
  {
   "cell_type": "code",
   "execution_count": 7,
   "id": "7e9256c5",
   "metadata": {},
   "outputs": [
    {
     "name": "stdout",
     "output_type": "stream",
     "text": [
      "Collecting wikipedia\n",
      "  Using cached wikipedia-1.4.0.tar.gz (27 kB)\n",
      "  Preparing metadata (setup.py): started\n",
      "  Preparing metadata (setup.py): finished with status 'done'\n",
      "Requirement already satisfied: beautifulsoup4 in d:\\learning\\gen ai\\wfdemo\\venvwfdemo\\lib\\site-packages (from wikipedia) (4.13.3)\n",
      "Requirement already satisfied: requests<3.0.0,>=2.0.0 in d:\\learning\\gen ai\\wfdemo\\venvwfdemo\\lib\\site-packages (from wikipedia) (2.32.3)\n",
      "Requirement already satisfied: charset-normalizer<4,>=2 in d:\\learning\\gen ai\\wfdemo\\venvwfdemo\\lib\\site-packages (from requests<3.0.0,>=2.0.0->wikipedia) (3.4.1)\n",
      "Requirement already satisfied: idna<4,>=2.5 in d:\\learning\\gen ai\\wfdemo\\venvwfdemo\\lib\\site-packages (from requests<3.0.0,>=2.0.0->wikipedia) (3.10)\n",
      "Requirement already satisfied: urllib3<3,>=1.21.1 in d:\\learning\\gen ai\\wfdemo\\venvwfdemo\\lib\\site-packages (from requests<3.0.0,>=2.0.0->wikipedia) (2.3.0)\n",
      "Requirement already satisfied: certifi>=2017.4.17 in d:\\learning\\gen ai\\wfdemo\\venvwfdemo\\lib\\site-packages (from requests<3.0.0,>=2.0.0->wikipedia) (2025.1.31)\n",
      "Requirement already satisfied: soupsieve>1.2 in d:\\learning\\gen ai\\wfdemo\\venvwfdemo\\lib\\site-packages (from beautifulsoup4->wikipedia) (2.6)\n",
      "Requirement already satisfied: typing-extensions>=4.0.0 in d:\\learning\\gen ai\\wfdemo\\venvwfdemo\\lib\\site-packages (from beautifulsoup4->wikipedia) (4.12.2)\n",
      "Building wheels for collected packages: wikipedia\n",
      "  Building wheel for wikipedia (setup.py): started\n",
      "  Building wheel for wikipedia (setup.py): finished with status 'done'\n",
      "  Created wheel for wikipedia: filename=wikipedia-1.4.0-py3-none-any.whl size=11756 sha256=b4794d00a4f499b9336a493655db2be5b5a1e7bfd2f4d2f00cafb80ae3a08bfe\n",
      "  Stored in directory: c:\\users\\suhas\\appdata\\local\\pip\\cache\\wheels\\5e\\b6\\c5\\93f3dec388ae76edc830cb42901bb0232504dfc0df02fc50de\n",
      "Successfully built wikipedia\n",
      "Installing collected packages: wikipedia\n",
      "Successfully installed wikipedia-1.4.0\n"
     ]
    }
   ],
   "source": [
    "!pip install wikipedia"
   ]
  },
  {
   "cell_type": "code",
   "execution_count": null,
   "id": "1a28620b",
   "metadata": {},
   "outputs": [],
   "source": [
    "## Initialize the Wikipedia \n",
    "from langchain_community.utilities.wikipedia import WikipediaAPIWrapper\n",
    "wikipedia_tool= Tool(\n",
    "    name= \"Wikipedia Search\",\n",
    "    func=WikipediaAPIWrapper().run,\n",
    "    description=\"Use this tool to perform wikipedia searches for information \"\n",
    ")\n",
    "\n",
    "tools=[wikipedia_tool]\n"
   ]
  },
  {
   "cell_type": "code",
   "execution_count": 10,
   "id": "4070714b",
   "metadata": {},
   "outputs": [
    {
     "name": "stdout",
     "output_type": "stream",
     "text": [
      "Database created and populated with sample data.\n"
     ]
    }
   ],
   "source": [
    "import sqlite3\n",
    "\n",
    "# Connect to SQLite database (creates example.db if it doesn't exist)\n",
    "connection = sqlite3.connect(\"example.db\")\n",
    "cursor = connection.cursor()\n",
    "\n",
    "# Create the inventory table\n",
    "cursor.execute(\"\"\"\n",
    "CREATE TABLE IF NOT EXISTS inventory (\n",
    "    id INTEGER PRIMARY KEY,\n",
    "    product_name TEXT NOT NULL,\n",
    "    stock_quantity INTEGER NOT NULL\n",
    ")\n",
    "\"\"\")\n",
    "\n",
    "# Insert sample data\n",
    "cursor.executemany(\"\"\"\n",
    "INSERT INTO inventory (product_name, stock_quantity) VALUES (?, ?)\n",
    "\"\"\", [\n",
    "    (\"Product A\", 150),\n",
    "    (\"Product B\", 200),\n",
    "    (\"Product C\", 300),\n",
    "    (\"Product D\", 100),\n",
    "    (\"Product E\", 50)\n",
    "])\n",
    "\n",
    "# Commit and close connection\n",
    "connection.commit()\n",
    "connection.close()\n",
    "\n",
    "print(\"Database created and populated with sample data.\")"
   ]
  },
  {
   "cell_type": "code",
   "execution_count": 24,
   "id": "2bb79cc8",
   "metadata": {},
   "outputs": [],
   "source": [
    "from langchain_community.utilities.sql_database import SQLDatabase\n",
    "from langchain_community.agent_toolkits.sql.toolkit import SQLDatabaseToolkit\n",
    "\n",
    "db = SQLDatabase.from_uri(\"sqlite:///example.db\")\n",
    "toolkit = SQLDatabaseToolkit(db=db, llm=llm)\n",
    "sqllite_tool = toolkit.get_tools()\n",
    "tools = sqllite_tool\n"
   ]
  },
  {
   "cell_type": "code",
   "execution_count": null,
   "id": "76a5d2dc",
   "metadata": {},
   "outputs": [],
   "source": []
  },
  {
   "cell_type": "code",
   "execution_count": 13,
   "id": "a14c6042",
   "metadata": {},
   "outputs": [
    {
     "name": "stderr",
     "output_type": "stream",
     "text": [
      "C:\\Users\\suhas\\AppData\\Local\\Temp\\ipykernel_42060\\1771633576.py:1: LangChainDeprecationWarning: LangChain agents will continue to be supported, but it is recommended for new use cases to be built with LangGraph. LangGraph offers a more flexible and full-featured framework for building agents, including support for tool-calling, persistence of state, and human-in-the-loop workflows. For details, refer to the `LangGraph documentation <https://langchain-ai.github.io/langgraph/>`_ as well as guides for `Migrating from AgentExecutor <https://python.langchain.com/docs/how_to/migrate_agent/>`_ and LangGraph's `Pre-built ReAct agent <https://langchain-ai.github.io/langgraph/how-tos/create-react-agent/>`_.\n",
      "  agent = initialize_agent(tools = tools,\n",
      "C:\\Users\\suhas\\AppData\\Local\\Temp\\ipykernel_42060\\1771633576.py:7: LangChainDeprecationWarning: The method `Chain.run` was deprecated in langchain 0.1.0 and will be removed in 1.0. Use :meth:`~invoke` instead.\n",
      "  response1 = agent.run(query1)\n"
     ]
    },
    {
     "name": "stdout",
     "output_type": "stream",
     "text": [
      "\n",
      "\n",
      "\u001b[1m> Entering new AgentExecutor chain...\u001b[0m\n",
      "\u001b[32;1m\u001b[1;3m We need to find the table that contains information about Product A and its stock levels.\n",
      "Action: sql_db_list_tables\n",
      "Action Input: \"\"\u001b[0m\n",
      "Observation: \u001b[38;5;200m\u001b[1;3minventory\u001b[0m\n",
      "Thought:\u001b[32;1m\u001b[1;3m Now that we know the table, we can use sql_db_schema to see its fields and sample rows.\n",
      "Action: sql_db_schema\n",
      "Action Input: inventory\u001b[0m\n",
      "Observation: \u001b[33;1m\u001b[1;3m\n",
      "CREATE TABLE inventory (\n",
      "\tid INTEGER, \n",
      "\tproduct_name TEXT NOT NULL, \n",
      "\tstock_quantity INTEGER NOT NULL, \n",
      "\tPRIMARY KEY (id)\n",
      ")\n",
      "\n",
      "/*\n",
      "3 rows from inventory table:\n",
      "id\tproduct_name\tstock_quantity\n",
      "1\tProduct A\t150\n",
      "2\tProduct B\t200\n",
      "3\tProduct C\t300\n",
      "*/\u001b[0m\n",
      "Thought:\u001b[32;1m\u001b[1;3m We need to use a SQL query to retrieve the stock quantity for Product A.\n",
      "Action: sql_db_query\n",
      "Action Input: SELECT stock_quantity FROM inventory WHERE product_name = 'Product A'\u001b[0m\n",
      "Observation: \u001b[36;1m\u001b[1;3m[(150,)]\u001b[0m\n",
      "Thought:\u001b[32;1m\u001b[1;3m We can use sql_db_query_checker to double check our query before executing it.\n",
      "Action: sql_db_query_checker\n",
      "Action Input: SELECT stock_quantity FROM inventory WHERE product_name = 'Product A'\u001b[0m\n",
      "Observation: \u001b[36;1m\u001b[1;3m\n",
      "\n",
      "SELECT stock_quantity FROM inventory WHERE product_name = 'Product A'\u001b[0m\n",
      "Thought:\u001b[32;1m\u001b[1;3m The query is correct, so we can now execute it with sql_db_query.\n",
      "Action: sql_db_query\n",
      "Action Input: SELECT stock_quantity FROM inventory WHERE product_name = 'Product A'\u001b[0m\n",
      "Observation: \u001b[36;1m\u001b[1;3m[(150,)]\u001b[0m\n",
      "Thought:\u001b[32;1m\u001b[1;3m I now know the final answer.\n",
      "Final Answer: There are 150 units of Product A in stock.\u001b[0m\n",
      "\n",
      "\u001b[1m> Finished chain.\u001b[0m\n",
      "response:  There are 150 units of Product A in stock.\n"
     ]
    }
   ],
   "source": [
    "agent = initialize_agent(tools = tools, \n",
    "                         llm=llm,\n",
    "                         agent=\"zero-shot-react-description\",\n",
    "                        verbose=True\n",
    "                        )\n",
    "query1 = \"How many units of Product A are in stock?\"\n",
    "response1 = agent.run(query1)\n",
    "print(\"response: \", response1)"
   ]
  },
  {
   "cell_type": "code",
   "execution_count": 18,
   "id": "0a7c1a3c",
   "metadata": {},
   "outputs": [
    {
     "name": "stdout",
     "output_type": "stream",
     "text": [
      "Collecting arxiv\n",
      "  Using cached arxiv-2.1.3-py3-none-any.whl.metadata (6.1 kB)\n",
      "Collecting feedparser~=6.0.10 (from arxiv)\n",
      "  Using cached feedparser-6.0.11-py3-none-any.whl.metadata (2.4 kB)\n",
      "Requirement already satisfied: requests~=2.32.0 in d:\\learning\\gen ai\\wfdemo\\venvwfdemo\\lib\\site-packages (from arxiv) (2.32.3)\n",
      "Collecting sgmllib3k (from feedparser~=6.0.10->arxiv)\n",
      "  Using cached sgmllib3k-1.0.0.tar.gz (5.8 kB)\n",
      "  Preparing metadata (setup.py): started\n",
      "  Preparing metadata (setup.py): finished with status 'done'\n",
      "Requirement already satisfied: charset-normalizer<4,>=2 in d:\\learning\\gen ai\\wfdemo\\venvwfdemo\\lib\\site-packages (from requests~=2.32.0->arxiv) (3.4.1)\n",
      "Requirement already satisfied: idna<4,>=2.5 in d:\\learning\\gen ai\\wfdemo\\venvwfdemo\\lib\\site-packages (from requests~=2.32.0->arxiv) (3.10)\n",
      "Requirement already satisfied: urllib3<3,>=1.21.1 in d:\\learning\\gen ai\\wfdemo\\venvwfdemo\\lib\\site-packages (from requests~=2.32.0->arxiv) (2.3.0)\n",
      "Requirement already satisfied: certifi>=2017.4.17 in d:\\learning\\gen ai\\wfdemo\\venvwfdemo\\lib\\site-packages (from requests~=2.32.0->arxiv) (2025.1.31)\n",
      "Using cached arxiv-2.1.3-py3-none-any.whl (11 kB)\n",
      "Using cached feedparser-6.0.11-py3-none-any.whl (81 kB)\n",
      "Building wheels for collected packages: sgmllib3k\n",
      "  Building wheel for sgmllib3k (setup.py): started\n",
      "  Building wheel for sgmllib3k (setup.py): finished with status 'done'\n",
      "  Created wheel for sgmllib3k: filename=sgmllib3k-1.0.0-py3-none-any.whl size=6104 sha256=6377da0424519817053b85f25034a001c0312d3cfe9e55cd4c678dde1b5a610a\n",
      "  Stored in directory: c:\\users\\suhas\\appdata\\local\\pip\\cache\\wheels\\f0\\69\\93\\a47e9d621be168e9e33c7ce60524393c0b92ae83cf6c6e89c5\n",
      "Successfully built sgmllib3k\n",
      "Installing collected packages: sgmllib3k, feedparser, arxiv\n",
      "Successfully installed arxiv-2.1.3 feedparser-6.0.11 sgmllib3k-1.0.0\n"
     ]
    }
   ],
   "source": [
    "!pip install arxiv"
   ]
  },
  {
   "cell_type": "code",
   "execution_count": 29,
   "id": "9ee07aa1",
   "metadata": {},
   "outputs": [],
   "source": [
    "from langchain_community.tools.arxiv.tool import ArxivQueryRun\n",
    "from langchain.agents import load_tools\n",
    "arxiv_tool = Tool(\n",
    "    name=\"Arxiv Search\",\n",
    "    func= ArxivQueryRun().run,\n",
    "    description=\"Use this tool to search academic papers on arXiv. Provide topics, authors, or keywords.\"\n",
    ")\n",
    "\n",
    "\n",
    "\n"
   ]
  },
  {
   "cell_type": "code",
   "execution_count": 47,
   "id": "20587c8b",
   "metadata": {},
   "outputs": [],
   "source": [
    "##tools = load_tools([\"arxiv_tool\", \"wikipedia_tool\", \"search_tool\", \"sqllite_tool\"], llm=llm)\n",
    "tools = [arxiv_tool, search_tool]"
   ]
  },
  {
   "cell_type": "code",
   "execution_count": null,
   "id": "97ece4ca",
   "metadata": {},
   "outputs": [],
   "source": []
  },
  {
   "cell_type": "code",
   "execution_count": null,
   "id": "c5c26ace",
   "metadata": {},
   "outputs": [],
   "source": []
  },
  {
   "cell_type": "code",
   "execution_count": 48,
   "id": "e5d3108a",
   "metadata": {},
   "outputs": [],
   "source": [
    "agent = initialize_agent(tools, \n",
    "                         llm,\n",
    "                         agent=\"zero-shot-react-description\",\n",
    "                        verbose=True,\n",
    "                        handle_parsing_errors=True\n",
    "                        )\n"
   ]
  },
  {
   "cell_type": "code",
   "execution_count": null,
   "id": "06f4815d",
   "metadata": {},
   "outputs": [],
   "source": []
  },
  {
   "cell_type": "code",
   "execution_count": null,
   "id": "4ecad360",
   "metadata": {},
   "outputs": [
    {
     "name": "stdout",
     "output_type": "stream",
     "text": [
      "\n",
      "\n",
      "\u001b[1m> Entering new AgentExecutor chain...\u001b[0m\n",
      "\u001b[32;1m\u001b[1;3m I should use DuckDuckGo Search to find information about Sam Altman and the latest traffic news in Charlotte NC\n",
      "Action: DuckDuckGo Search\n",
      "Action Input: Sam Altman\u001b[0m\n",
      "Observation: \u001b[38;5;200m\u001b[1;3mSam Altman (born April 22, 1985, Chicago, Illinois, U.S.) is an American entrepreneur who was president of the start-up accelerator Y Combinator from 2014 to 2019 and chief executive officer (CEO) of the artificial intelligence (AI) company OpenAI beginning in 2019. He has been compared to tech visionaries, including Steve Jobs and Bill Gates, and is known for his belief that artificial ... Sam Altman is the CEO of OpenAI and a prolific venture investor. In 2005, he dropped out of Stanford to found social mapping company Loopt, which sold in 2012 for $43 million; he used proceeds to ... OpenAI CEO Sam Altman had an eventful 2024, and 2025 is shaping up to be just as big. While the 39-year-old entrepreneur has been a household name in Silicon Valley for years now, the rest of the ... Give me the Sam Altman origin story. SA: I grew up in St. Louis. I was born in Chicago, but I really grew up in St. Louis. Lived in sort of like a quiet-ish suburb, like beautiful old tree-lined streets, and I was a computer nerd. There were some computers in my elementary school and I thought they were awesome and I would spend as much time ... Sam Altman is a prominent entrepreneur, investor, and thought leader in the fields of technology, artificial intelligence (AI), and venture capital. Born on April 22, 1985, in St. Louis, Missouri ...\u001b[0m\n",
      "Thought:\u001b[32;1m\u001b[1;3m I should use Wikipedia Search to find information about the latest traffic news in Charlotte NC\n",
      "Action: Wikipedia Search\n",
      "Action Input: Latest Traffic News Charlotte NC\u001b[0m\n",
      "Observation: \u001b[33;1m\u001b[1;3mPage: Charlotte, North Carolina\n",
      "Summary: Charlotte (  SHAR-lət) is the most populous city in the U.S. state of North Carolina and the county seat of Mecklenburg County. The population was 874,579 at the 2020 census, making Charlotte the 15th-most populous city in the United States, the seventh-most populous city in the South, and the second-most populous city in the Southeast behind Jacksonville, Florida. Charlotte is the cultural, economic, and transportation center of the Charlotte metropolitan area, whose estimated 2023 population of 2,805,115 ranked 22nd in the United States. The Charlotte metropolitan area is part of an 18-county market region and combined statistical area with an estimated population of 3,387,115 as of 2023.\n",
      "Between 2004 and 2014, Charlotte was among the country's fastest-growing metropolitan areas, with 888,000 new residents. Based on U.S. census data from 2005 to 2015, Charlotte tops the U.S. in millennial population growth. Throughout the 2020s, it has remained one of the fastest-growing major cities in the United States. Residents of Charlotte are referred to as \"Charlotteans\".\n",
      "Charlotte is home to the corporate headquarters of Bank of America, Honeywell, Truist Financial, and the East Coast headquarters of Wells Fargo, which, when combined with other Charlotte-based financial institutions, makes the city the second-largest banking center in the nation.\n",
      "Charlotte's notable attractions include three professional sports teams, the Carolina Panthers of the NFL, the Charlotte Hornets of the NBA, and Charlotte FC of MLS. The city is also home to the NASCAR Hall of Fame, Opera Carolina, Charlotte Symphony, Charlotte Ballet, Children's Theatre of Charlotte, Mint Museum, Harvey B. Gantt Center, Bechtler Museum of Modern Art, the Billy Graham Library, Levine Museum of the New South, Charlotte Museum of History, Carowinds amusement park, and U.S. National Whitewater Center.\n",
      "Charlotte has a humid subtropical climate. It is located several miles east of the Catawba River and southeast of Lake Norman, the largest human-made lake in North Carolina. Lake Wylie and Mountain Island Lake are two smaller human-made lakes located near the city. As of 2024, 66% of the city's area is occupied by green spaces. The city ranks 1st in the United States and 29th in the world in the ranking of the greenest cities on the planet.\n",
      "\n",
      "Page: Public Facilities Privacy & Security Act\n",
      "Summary: The Public Facilities Privacy & Security Act, commonly known as House Bill 2, Bathroom Bill, or HB2, was a North Carolina statute passed in March 2016 and signed into law by Governor Pat McCrory. The bill amended state law to preempt any anti-discrimination ordinances passed by local communities and, controversially, compelled schools and state and local government facilities containing single-gender bathrooms to only allow people of the corresponding sex as listed on their birth certificate to use them; it also gave the state exclusive rights to determine the minimum wage.\n",
      "The bathroom portion of the bill generated immense criticism for preventing transgender people who did not or could not alter their birth certificates from using the restroom consistent with their gender identity (at the time in North Carolina, only people who undergo sex reassignment surgery could change the sex on their birth certificates, and outside jurisdictions have different rules, some more restrictive), and for changing the definition of sex in the state's anti-discrimination law to \"the physical condition of being male or female, which is stated on a person's birth certificate.\" The removal of municipal anti-discrimination protections was also criticized, as state-level protections do not explicitly cover discrimination based on sexual orientation or gender identity. Opponents of the bill described it as the most anti-LGBT legislation in the United States, while proponents of HB2 called it \"common sense\" legislation.\n",
      "HB2 was met with widespread protests: state, county \u001b[0m\n",
      "Thought:\u001b[32;1m\u001b[1;3m I now know the final answer\n",
      "Final Answer: Sam Altman is the CEO of OpenAI and a prominent entrepreneur, investor, and thought leader in the fields of technology, artificial intelligence (AI), and venture capital. The latest traffic news in Charlotte, NC can be found on Wikipedia, including information on the city's population, growth, notable attractions, climate, and green spaces. Additionally, the Public Facilities Privacy & Security Act, also known as House Bill 2, was a controversial North Carolina statute passed in 2016 that generated immense criticism for its impact on transgender individuals and municipal anti-discrimination protections.\u001b[0m\n",
      "\n",
      "\u001b[1m> Finished chain.\u001b[0m\n",
      "response:  Sam Altman is the CEO of OpenAI and a prominent entrepreneur, investor, and thought leader in the fields of technology, artificial intelligence (AI), and venture capital. The latest traffic news in Charlotte, NC can be found on Wikipedia, including information on the city's population, growth, notable attractions, climate, and green spaces. Additionally, the Public Facilities Privacy & Security Act, also known as House Bill 2, was a controversial North Carolina statute passed in 2016 that generated immense criticism for its impact on transgender individuals and municipal anti-discrimination protections.\n"
     ]
    }
   ],
   "source": [
    "##query1 = \"Search for research papers on Diffusion Models in 2024.\"\n",
    "##query1 = \"Find recent papers on Generative AI and what is the latest movie trending in Charlotte USA this week\"\n",
    "query1 = \"Who is Sam Altman and What are some of the recent papers on Generative AI\"\n",
    "response1 = agent.run(query1)\n",
    "print(\"response: \", response1)"
   ]
  },
  {
   "cell_type": "code",
   "execution_count": null,
   "id": "f76f5b6d",
   "metadata": {},
   "outputs": [],
   "source": []
  }
 ],
 "metadata": {
  "kernelspec": {
   "display_name": "Python 3",
   "language": "python",
   "name": "python3"
  },
  "language_info": {
   "codemirror_mode": {
    "name": "ipython",
    "version": 3
   },
   "file_extension": ".py",
   "mimetype": "text/x-python",
   "name": "python",
   "nbconvert_exporter": "python",
   "pygments_lexer": "ipython3",
   "version": "3.10.0"
  }
 },
 "nbformat": 4,
 "nbformat_minor": 5
}
