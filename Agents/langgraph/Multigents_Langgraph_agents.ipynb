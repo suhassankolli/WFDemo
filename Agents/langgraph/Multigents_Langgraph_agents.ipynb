{
 "cells": [
  {
   "cell_type": "markdown",
   "id": "257933fa",
   "metadata": {},
   "source": [
    "## This example shows implementation of Supervisor Agent Pattern, where all the request goes to one Supervisior Agent\n",
    "### Supervisor agents is connected to all other agents \n",
    "### Supervisor agent determines to which agent to route the task\n"
   ]
  },
  {
   "cell_type": "code",
   "execution_count": 2,
   "id": "0af986a4",
   "metadata": {},
   "outputs": [],
   "source": [
    "# Import the necessary libraries\n",
    "from langchain_openai import ChatOpenAI\n",
    "from langgraph_supervisor import create_supervisor\n",
    "from langgraph.prebuilt import create_react_agent\n"
   ]
  },
  {
   "cell_type": "code",
   "execution_count": 3,
   "id": "ea587b83",
   "metadata": {},
   "outputs": [],
   "source": [
    "## Initialize the OpenAI model\n",
    "from dotenv import load_dotenv\n",
    "load_dotenv()\n",
    "import os\n",
    "open_api_key = os.getenv(\"OPENAI_API_KEY\")\n",
    "model = ChatOpenAI(temperature=0, api_key=open_api_key, model=\"gpt-4o-mini\")"
   ]
  },
  {
   "cell_type": "code",
   "execution_count": 4,
   "id": "88e707e0",
   "metadata": {},
   "outputs": [
    {
     "name": "stdout",
     "output_type": "stream",
     "text": [
      "AI agents are also difficult to evaluate in a repeatable way that shows progress without employing artificial constraints. This is especially challenging as the core capabilities of the underlying LLMs continue to rapidly improve, which makes it difficult to know whether your approach has improved results or if it's simply the underlying ... An AI agent is a software component that has the agency to act on behalf of a user or a system to perform tasks.Users can organize agents into systems that can orchestrate complex workflows, coordinate activities among multiple agents, apply logic to thorny problems, and evaluate answers to user queries. Limitations of AI Agents. AI agents have undoubtedly transformed many industries, but they come with limitations that impact their reliability, adaptability, and ethical use. Here are some of the main limitations: Limited Understanding of Context Many AI agents lack the deep understanding of context that humans have. An AI agent is a software program that can interact with its surroundings, gather information, and use that information to complete tasks on its own to achieve goals set by humans.. For instance, an AI agent on an online shopping platform can recommend products, answer customer questions, and process orders. If agent needs more information, it can ask users for additional details. AI agents are capable of operating independently and without continuous, direct oversight, while collaborating with users to automate monotonous tasks.\n"
     ]
    }
   ],
   "source": [
    "## Lets define the first tool\n",
    "## Tools are the external functions that LLM can use to complete a task. \n",
    "## Remember, llm cannot provide latest information such as current weather, current stock price. Hence we need to create tools\n",
    "## for realtime funciton\n",
    "\n",
    "from langchain_community.tools import DuckDuckGoSearchRun\n",
    "\n",
    "def search_duckduckgo(query:str):\n",
    "    \"\"\"Search DuckDuckGo usng Langchain's DuckDuckGo tool\"\"\"\n",
    "    search = DuckDuckGoSearchRun()\n",
    "    return search.run(query)\n",
    "\n",
    "## Example run \n",
    "#result = search_duckduckgo(\"What are AI Agent\")\n",
    "#print(result)\n"
   ]
  },
  {
   "cell_type": "code",
   "execution_count": 5,
   "id": "a50b438f",
   "metadata": {},
   "outputs": [],
   "source": [
    "## Lets define additional tools\n",
    "\n",
    "def add(a: float, b: float) -> float:\n",
    "    \"\"\"Add two numbers.\"\"\"\n",
    "    return a + b\n",
    "\n",
    "def multiply(a: float, b: float) -> float:\n",
    "    \"\"\"Multiply two numbers.\"\"\"\n",
    "    return a * b"
   ]
  },
  {
   "cell_type": "code",
   "execution_count": 6,
   "id": "5bb8c4a8",
   "metadata": {},
   "outputs": [],
   "source": [
    "## Lets create Agents that perform specfic actions\n",
    "math_agent = create_react_agent(\n",
    "model = model,\n",
    "tools = [add, multiply],\n",
    "name=\"math_expert\",\n",
    "prompt=\"You are a math expert, Always use one tool at a time\")"
   ]
  },
  {
   "cell_type": "code",
   "execution_count": 7,
   "id": "a348b093",
   "metadata": {},
   "outputs": [],
   "source": [
    "## Lets create research agent\n",
    "research_agent  = create_react_agent(\n",
    "model=model,\n",
    "tools=[search_duckduckgo],\n",
    "name=\"research_agent\",\n",
    "prompt=\"You are a world class researcher with access to websearch. Do not do any math \")"
   ]
  },
  {
   "cell_type": "code",
   "execution_count": 8,
   "id": "ee402d01",
   "metadata": {},
   "outputs": [],
   "source": [
    "## Lets create a SUpervisor agent that will supervise the above agents\n",
    "workflow = create_supervisor(\n",
    "[research_agent,math_agent],\n",
    "model = model,\n",
    "prompt=(\n",
    "    \"You are a team supervisor managing a research expert and math expert. \"\n",
    "    \"For current events use research_agent\"\n",
    "    \"For math problems use math_agent\"\n",
    ")\n",
    ")"
   ]
  },
  {
   "cell_type": "code",
   "execution_count": 9,
   "id": "e5c5e79f",
   "metadata": {},
   "outputs": [],
   "source": [
    "## Fist step in Langgraph is to compile the workflow before using it\n",
    "app = workflow.compile()"
   ]
  },
  {
   "cell_type": "code",
   "execution_count": 10,
   "id": "f69b63ad",
   "metadata": {},
   "outputs": [],
   "source": [
    "result = app.invoke({\n",
    "    \"messages\":[\n",
    "        {\n",
    "            \"role\": \"user\",\n",
    "            \"content\": \"What is a quantum computing\"\n",
    "        }\n",
    "    ]\n",
    "})"
   ]
  },
  {
   "cell_type": "code",
   "execution_count": 11,
   "id": "decc7463",
   "metadata": {},
   "outputs": [
    {
     "name": "stdout",
     "output_type": "stream",
     "text": [
      "{'messages': [HumanMessage(content='What is a quantum computing', additional_kwargs={}, response_metadata={}, id='5e8b0d17-4a1f-41a7-8f01-1aa3614082c1'), AIMessage(content='', additional_kwargs={'tool_calls': [{'id': 'call_3bDwJex3VWMj7B07PBE0cNh3', 'function': {'arguments': '{}', 'name': 'transfer_to_research_agent'}, 'type': 'function'}], 'refusal': None}, response_metadata={'token_usage': {'completion_tokens': 14, 'prompt_tokens': 95, 'total_tokens': 109, 'completion_tokens_details': {'accepted_prediction_tokens': 0, 'audio_tokens': 0, 'reasoning_tokens': 0, 'rejected_prediction_tokens': 0}, 'prompt_tokens_details': {'audio_tokens': 0, 'cached_tokens': 0}}, 'model_name': 'gpt-4o-mini-2024-07-18', 'system_fingerprint': 'fp_44added55e', 'id': 'chatcmpl-BLczIfbT4cezlu7Mv6lHBjMwaptyk', 'finish_reason': 'tool_calls', 'logprobs': None}, name='supervisor', id='run-a69af6f9-a924-42a8-b0ad-08ddc2ee6fbf-0', tool_calls=[{'name': 'transfer_to_research_agent', 'args': {}, 'id': 'call_3bDwJex3VWMj7B07PBE0cNh3', 'type': 'tool_call'}], usage_metadata={'input_tokens': 95, 'output_tokens': 14, 'total_tokens': 109, 'input_token_details': {'audio': 0, 'cache_read': 0}, 'output_token_details': {'audio': 0, 'reasoning': 0}}), ToolMessage(content='Successfully transferred to research_agent', name='transfer_to_research_agent', id='cc5489cc-5f05-4fdb-9e67-6444600de38a', tool_call_id='call_3bDwJex3VWMj7B07PBE0cNh3'), AIMessage(content='Quantum computing is a type of computing that utilizes the principles of quantum mechanics to process information. Unlike classical computers, which use bits as the smallest unit of data (representing either a 0 or a 1), quantum computers use quantum bits, or qubits. Qubits can exist in multiple states simultaneously due to a property known as superposition, allowing them to represent both 0 and 1 at the same time.\\n\\nThis capability enables quantum computers to perform complex calculations more efficiently than classical computers. They leverage quantum phenomena to store and compute information, potentially solving problems that are currently intractable for classical systems.\\n\\nBuilding a quantum computer involves significant engineering challenges and requires a deep understanding of quantum mechanics, as well as the ability to control quantum systems effectively. Quantum computing is an emerging technology with various applications, including cryptography, optimization, and simulation of quantum systems.', additional_kwargs={'refusal': None}, response_metadata={'token_usage': {'completion_tokens': 176, 'prompt_tokens': 398, 'total_tokens': 574, 'completion_tokens_details': {'accepted_prediction_tokens': 0, 'audio_tokens': 0, 'reasoning_tokens': 0, 'rejected_prediction_tokens': 0}, 'prompt_tokens_details': {'audio_tokens': 0, 'cached_tokens': 0}}, 'model_name': 'gpt-4o-mini-2024-07-18', 'system_fingerprint': 'fp_64e0ac9789', 'id': 'chatcmpl-BLczL8RDELyEfLE7gvxTROmesmcDL', 'finish_reason': 'stop', 'logprobs': None}, name='research_agent', id='run-b8cda145-039c-4387-a480-f77d5f25c579-0', usage_metadata={'input_tokens': 398, 'output_tokens': 176, 'total_tokens': 574, 'input_token_details': {'audio': 0, 'cache_read': 0}, 'output_token_details': {'audio': 0, 'reasoning': 0}}), AIMessage(content='Transferring back to supervisor', additional_kwargs={}, response_metadata={'__is_handoff_back': True}, name='research_agent', id='9a675e9f-2d11-44cb-a4b3-c54ac1c147c1', tool_calls=[{'name': 'transfer_back_to_supervisor', 'args': {}, 'id': 'c027c39c-8336-41a6-8185-79b2adc58662', 'type': 'tool_call'}]), ToolMessage(content='Successfully transferred back to supervisor', name='transfer_back_to_supervisor', id='6172e994-ec94-4d1b-bd83-132913cedac8', tool_call_id='c027c39c-8336-41a6-8185-79b2adc58662'), AIMessage(content='Quantum computing is a type of computing that utilizes the principles of quantum mechanics to process information. Unlike classical computers, which use bits as the smallest unit of data (representing either a 0 or a 1), quantum computers use quantum bits, or qubits. Qubits can exist in multiple states simultaneously due to a property known as superposition, allowing them to represent both 0 and 1 at the same time.\\n\\nThis capability enables quantum computers to perform complex calculations more efficiently than classical computers. They leverage quantum phenomena to store and compute information, potentially solving problems that are currently intractable for classical systems.\\n\\nBuilding a quantum computer involves significant engineering challenges and requires a deep understanding of quantum mechanics, as well as the ability to control quantum systems effectively. Quantum computing is an emerging technology with various applications, including cryptography, optimization, and simulation of quantum systems.', additional_kwargs={'refusal': None}, response_metadata={'token_usage': {'completion_tokens': 176, 'prompt_tokens': 353, 'total_tokens': 529, 'completion_tokens_details': {'accepted_prediction_tokens': 0, 'audio_tokens': 0, 'reasoning_tokens': 0, 'rejected_prediction_tokens': 0}, 'prompt_tokens_details': {'audio_tokens': 0, 'cached_tokens': 0}}, 'model_name': 'gpt-4o-mini-2024-07-18', 'system_fingerprint': 'fp_44added55e', 'id': 'chatcmpl-BLczPwmkI3mqs9panuaYHpOh4462t', 'finish_reason': 'stop', 'logprobs': None}, name='supervisor', id='run-e79bbedc-ba23-4458-8a72-7141d6ee59df-0', usage_metadata={'input_tokens': 353, 'output_tokens': 176, 'total_tokens': 529, 'input_token_details': {'audio': 0, 'cache_read': 0}, 'output_token_details': {'audio': 0, 'reasoning': 0}})]}\n"
     ]
    }
   ],
   "source": [
    "print(result)"
   ]
  },
  {
   "cell_type": "code",
   "execution_count": 12,
   "id": "69ecfbaf",
   "metadata": {},
   "outputs": [
    {
     "name": "stdout",
     "output_type": "stream",
     "text": [
      "================================\u001b[1m Human Message \u001b[0m=================================\n",
      "\n",
      "What is a quantum computing\n",
      "==================================\u001b[1m Ai Message \u001b[0m==================================\n",
      "Name: supervisor\n",
      "Tool Calls:\n",
      "  transfer_to_research_agent (call_3bDwJex3VWMj7B07PBE0cNh3)\n",
      " Call ID: call_3bDwJex3VWMj7B07PBE0cNh3\n",
      "  Args:\n",
      "=================================\u001b[1m Tool Message \u001b[0m=================================\n",
      "Name: transfer_to_research_agent\n",
      "\n",
      "Successfully transferred to research_agent\n",
      "==================================\u001b[1m Ai Message \u001b[0m==================================\n",
      "Name: research_agent\n",
      "\n",
      "Quantum computing is a type of computing that utilizes the principles of quantum mechanics to process information. Unlike classical computers, which use bits as the smallest unit of data (representing either a 0 or a 1), quantum computers use quantum bits, or qubits. Qubits can exist in multiple states simultaneously due to a property known as superposition, allowing them to represent both 0 and 1 at the same time.\n",
      "\n",
      "This capability enables quantum computers to perform complex calculations more efficiently than classical computers. They leverage quantum phenomena to store and compute information, potentially solving problems that are currently intractable for classical systems.\n",
      "\n",
      "Building a quantum computer involves significant engineering challenges and requires a deep understanding of quantum mechanics, as well as the ability to control quantum systems effectively. Quantum computing is an emerging technology with various applications, including cryptography, optimization, and simulation of quantum systems.\n",
      "==================================\u001b[1m Ai Message \u001b[0m==================================\n",
      "Name: research_agent\n",
      "\n",
      "Transferring back to supervisor\n",
      "Tool Calls:\n",
      "  transfer_back_to_supervisor (c027c39c-8336-41a6-8185-79b2adc58662)\n",
      " Call ID: c027c39c-8336-41a6-8185-79b2adc58662\n",
      "  Args:\n",
      "=================================\u001b[1m Tool Message \u001b[0m=================================\n",
      "Name: transfer_back_to_supervisor\n",
      "\n",
      "Successfully transferred back to supervisor\n",
      "==================================\u001b[1m Ai Message \u001b[0m==================================\n",
      "Name: supervisor\n",
      "\n",
      "Quantum computing is a type of computing that utilizes the principles of quantum mechanics to process information. Unlike classical computers, which use bits as the smallest unit of data (representing either a 0 or a 1), quantum computers use quantum bits, or qubits. Qubits can exist in multiple states simultaneously due to a property known as superposition, allowing them to represent both 0 and 1 at the same time.\n",
      "\n",
      "This capability enables quantum computers to perform complex calculations more efficiently than classical computers. They leverage quantum phenomena to store and compute information, potentially solving problems that are currently intractable for classical systems.\n",
      "\n",
      "Building a quantum computer involves significant engineering challenges and requires a deep understanding of quantum mechanics, as well as the ability to control quantum systems effectively. Quantum computing is an emerging technology with various applications, including cryptography, optimization, and simulation of quantum systems.\n"
     ]
    }
   ],
   "source": [
    "## to see the results in a readable format\n",
    "for m in result[\"messages\"]:\n",
    "    m.pretty_print()"
   ]
  },
  {
   "cell_type": "code",
   "execution_count": 13,
   "id": "3fde2e97",
   "metadata": {},
   "outputs": [
    {
     "name": "stdout",
     "output_type": "stream",
     "text": [
      "================================\u001b[1m Human Message \u001b[0m=================================\n",
      "\n",
      "what is the weather in charlotte NC today. Multiply it by 2 and add 5\n",
      "==================================\u001b[1m Ai Message \u001b[0m==================================\n",
      "Name: supervisor\n",
      "Tool Calls:\n",
      "  transfer_to_research_agent (call_i96jOwX81zUWaiElv7Yyiqb8)\n",
      " Call ID: call_i96jOwX81zUWaiElv7Yyiqb8\n",
      "  Args:\n",
      "=================================\u001b[1m Tool Message \u001b[0m=================================\n",
      "Name: transfer_to_research_agent\n",
      "\n",
      "Successfully transferred to research_agent\n",
      "==================================\u001b[1m Ai Message \u001b[0m==================================\n",
      "Name: research_agent\n",
      "\n",
      "Today in Charlotte, NC, the weather is expected to be partly cloudy with temperatures ranging from a maximum of 66.2°F to a minimum of 55.4°F. There is also a chance of light rain later in the day. \n",
      "\n",
      "If you need any further information or details, feel free to ask!\n",
      "==================================\u001b[1m Ai Message \u001b[0m==================================\n",
      "Name: research_agent\n",
      "\n",
      "Transferring back to supervisor\n",
      "Tool Calls:\n",
      "  transfer_back_to_supervisor (e0691391-eaca-4dbf-a729-1fa3271bc3f3)\n",
      " Call ID: e0691391-eaca-4dbf-a729-1fa3271bc3f3\n",
      "  Args:\n",
      "=================================\u001b[1m Tool Message \u001b[0m=================================\n",
      "Name: transfer_back_to_supervisor\n",
      "\n",
      "Successfully transferred back to supervisor\n",
      "==================================\u001b[1m Ai Message \u001b[0m==================================\n",
      "Name: supervisor\n",
      "Tool Calls:\n",
      "  transfer_to_math_expert (call_yIh5JFpyNjPU5rP7Kg84gihg)\n",
      " Call ID: call_yIh5JFpyNjPU5rP7Kg84gihg\n",
      "  Args:\n",
      "=================================\u001b[1m Tool Message \u001b[0m=================================\n",
      "Name: transfer_to_math_expert\n",
      "\n",
      "Successfully transferred to math_expert\n",
      "==================================\u001b[1m Ai Message \u001b[0m==================================\n",
      "Name: math_expert\n",
      "\n",
      "After multiplying the maximum temperature of 66.2°F by 2, we get 132.4. Adding 5 to that gives us a final result of 137.4.\n",
      "==================================\u001b[1m Ai Message \u001b[0m==================================\n",
      "Name: math_expert\n",
      "\n",
      "Transferring back to supervisor\n",
      "Tool Calls:\n",
      "  transfer_back_to_supervisor (fba8e2dc-da4a-494d-94a0-cc113132c9bb)\n",
      " Call ID: fba8e2dc-da4a-494d-94a0-cc113132c9bb\n",
      "  Args:\n",
      "=================================\u001b[1m Tool Message \u001b[0m=================================\n",
      "Name: transfer_back_to_supervisor\n",
      "\n",
      "Successfully transferred back to supervisor\n",
      "==================================\u001b[1m Ai Message \u001b[0m==================================\n",
      "Name: supervisor\n",
      "\n",
      "The maximum temperature in Charlotte, NC today is 66.2°F. After multiplying it by 2 and adding 5, the final result is 137.4. If you need any further assistance, let me know!\n"
     ]
    }
   ],
   "source": [
    "# Compile and run\n",
    "app = workflow.compile()\n",
    "result = app.invoke({\n",
    "    \"messages\": [\n",
    "        {\n",
    "            \"role\": \"user\",\n",
    "            \"content\": \"what is the weather in charlotte NC today. Multiply it by 2 and add 5\"\n",
    "        }\n",
    "    ]\n",
    "})\n",
    "\n",
    "for m in result[\"messages\"]:\n",
    "    m.pretty_print()"
   ]
  },
  {
   "cell_type": "code",
   "execution_count": null,
   "id": "40c0b58c",
   "metadata": {},
   "outputs": [],
   "source": []
  }
 ],
 "metadata": {
  "kernelspec": {
   "display_name": "venvWFDemo",
   "language": "python",
   "name": "venvwfdemo"
  },
  "language_info": {
   "codemirror_mode": {
    "name": "ipython",
    "version": 3
   },
   "file_extension": ".py",
   "mimetype": "text/x-python",
   "name": "python",
   "nbconvert_exporter": "python",
   "pygments_lexer": "ipython3",
   "version": "3.10.0"
  }
 },
 "nbformat": 4,
 "nbformat_minor": 5
}
