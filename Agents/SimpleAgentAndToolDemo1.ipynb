{
 "cells": [
  {
   "cell_type": "code",
   "execution_count": 1,
   "id": "714d857d",
   "metadata": {},
   "outputs": [],
   "source": [
    "from langchain.agents import initialize_agent, Tool\n",
    "from langchain.llms import OpenAI\n",
    "from langchain_community.utilities import SerpAPIWrapper"
   ]
  },
  {
   "cell_type": "code",
   "execution_count": 3,
   "id": "70122c01",
   "metadata": {},
   "outputs": [],
   "source": [
    "from dotenv import load_dotenv\n",
    "import os\n",
    "load_dotenv()\n",
    "open_api_key = os.getenv(\"OPENAI_API_KEY\")\n",
    "serpapi_api_key = os.getenv(\"SERPAPI_API_KEY\")"
   ]
  },
  {
   "cell_type": "code",
   "execution_count": 5,
   "id": "b1e03818",
   "metadata": {},
   "outputs": [
    {
     "name": "stderr",
     "output_type": "stream",
     "text": [
      "C:\\Users\\suhas\\AppData\\Local\\Temp\\ipykernel_34624\\1951540294.py:12: LangChainDeprecationWarning: LangChain agents will continue to be supported, but it is recommended for new use cases to be built with LangGraph. LangGraph offers a more flexible and full-featured framework for building agents, including support for tool-calling, persistence of state, and human-in-the-loop workflows. For details, refer to the `LangGraph documentation <https://langchain-ai.github.io/langgraph/>`_ as well as guides for `Migrating from AgentExecutor <https://python.langchain.com/docs/how_to/migrate_agent/>`_ and LangGraph's `Pre-built ReAct agent <https://langchain-ai.github.io/langgraph/how-tos/create-react-agent/>`_.\n",
      "  agent = initialize_agent(tools, llm, agent=\"zero-shot-react-description\", verbose=True)\n",
      "C:\\Users\\suhas\\AppData\\Local\\Temp\\ipykernel_34624\\1951540294.py:14: LangChainDeprecationWarning: The method `Chain.run` was deprecated in langchain 0.1.0 and will be removed in 1.0. Use :meth:`~invoke` instead.\n",
      "  response = agent.run(\"What is the weather in Charlotte NC, USA\")\n"
     ]
    },
    {
     "name": "stdout",
     "output_type": "stream",
     "text": [
      "\n",
      "\n",
      "\u001b[1m> Entering new AgentExecutor chain...\u001b[0m\n",
      "\u001b[32;1m\u001b[1;3m I should use the Search tool to find the weather in Charlotte\n",
      "Action: Search\n",
      "Action Input: \"weather in Charlotte NC, USA\"\u001b[0m\n",
      "Observation: \u001b[36;1m\u001b[1;3m{'type': 'weather_result', 'temperature': '82', 'unit': 'Fahrenheit', 'precipitation': '0%', 'humidity': '46%', 'wind': '12 mph', 'location': 'Charlotte, NC', 'date': 'Saturday 7:00 PM', 'weather': 'Partly cloudy'}\u001b[0m\n",
      "Thought:\u001b[32;1m\u001b[1;3m I now know the final answer\n",
      "Final Answer: The weather in Charlotte, NC at 7:00 PM on Saturday is partly cloudy with a temperature of 82 degrees Fahrenheit, 0% chance of precipitation, 46% humidity, and a wind speed of 12 mph.\u001b[0m\n",
      "\n",
      "\u001b[1m> Finished chain.\u001b[0m\n",
      "The weather in Charlotte, NC at 7:00 PM on Saturday is partly cloudy with a temperature of 82 degrees Fahrenheit, 0% chance of precipitation, 46% humidity, and a wind speed of 12 mph.\n"
     ]
    }
   ],
   "source": [
    "### Set up a tool for searching a web\n",
    "search_tool = SerpAPIWrapper()\n",
    "llm = OpenAI(temperature=0.5)\n",
    "tools =[\n",
    "    Tool(\n",
    "    name=\"Search\",\n",
    "    func=search_tool.run,\n",
    "    description=\"Use this tool to perform web searchs\"\n",
    "    )\n",
    "]\n",
    "## Initialize Agent - \n",
    "agent = initialize_agent(tools, llm, agent=\"zero-shot-react-description\", verbose=True)\n",
    "\n",
    "response = agent.run(\"What is the weather in Charlotte NC, USA\")\n",
    "print(response)"
   ]
  },
  {
   "cell_type": "code",
   "execution_count": null,
   "id": "324712a5",
   "metadata": {},
   "outputs": [],
   "source": []
  }
 ],
 "metadata": {
  "kernelspec": {
   "display_name": "Python 3",
   "language": "python",
   "name": "python3"
  },
  "language_info": {
   "codemirror_mode": {
    "name": "ipython",
    "version": 3
   },
   "file_extension": ".py",
   "mimetype": "text/x-python",
   "name": "python",
   "nbconvert_exporter": "python",
   "pygments_lexer": "ipython3",
   "version": "3.10.0"
  }
 },
 "nbformat": 4,
 "nbformat_minor": 5
}
